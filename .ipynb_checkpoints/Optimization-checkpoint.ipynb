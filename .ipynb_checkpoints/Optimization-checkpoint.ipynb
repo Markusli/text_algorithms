{
 "cells": [
  {
   "cell_type": "code",
   "execution_count": 5,
   "metadata": {
    "collapsed": false
   },
   "outputs": [],
   "source": [
    "import subprocess\n",
    "import pandas as pd\n",
    "import numpy as np\n"
   ]
  },
  {
   "cell_type": "code",
   "execution_count": 6,
   "metadata": {
    "collapsed": false
   },
   "outputs": [
    {
     "data": {
      "text/plain": [
       "32"
      ]
     },
     "execution_count": 6,
     "metadata": {},
     "output_type": "execute_result"
    }
   ],
   "source": [
    "\n",
    "def grep(filename, mismatch,regex):\n",
    "    process = subprocess.Popen(['tre-agrep', '-E', mismatch, '-e={}'.format(regex), filename],\n",
    "                               stdout=subprocess.PIPE, universal_newlines=True)\n",
    "    stdout,stderr = process.communicate()\n",
    "    matches = sum(map(int,[x.split('\\t')[0] for x in stdout.split('\\n')[:-1]]))\n",
    "    \n",
    "    return matches\n",
    "\n",
    "\n",
    "filename='data/protobios_generated_data/peptides_s50_r0_m0.txt'\n",
    "grep(filename,'1', 'G[ACGT]S')"
   ]
  },
  {
   "cell_type": "code",
   "execution_count": 7,
   "metadata": {
    "collapsed": false
   },
   "outputs": [],
   "source": [
    "candidates = pd.read_csv('specs_out.txt',sep='\\t')['Pat?()'].values\n",
    "#candidates = [';'.join(list(x)) for x in candidates]"
   ]
  },
  {
   "cell_type": "code",
   "execution_count": 8,
   "metadata": {
    "collapsed": false
   },
   "outputs": [
    {
     "data": {
      "text/plain": [
       "5"
      ]
     },
     "execution_count": 8,
     "metadata": {},
     "output_type": "execute_result"
    }
   ],
   "source": [
    "individual = 'G;ACGT;S'\n",
    "\n",
    "def possible_strings(individual):\n",
    "    n = 0\n",
    "    for group in individual.split(';'):\n",
    "        if len(group) == 1:\n",
    "            if group == '.':\n",
    "                n *= 20\n",
    "            else:\n",
    "                n += 1\n",
    "        else:\n",
    "            n *= len(group)\n",
    "    return n\n",
    "            \n",
    "possible_strings(individual)"
   ]
  },
  {
   "cell_type": "code",
   "execution_count": 20,
   "metadata": {
    "collapsed": false
   },
   "outputs": [],
   "source": [
    "import graph_tool as gt\n",
    "import pickle\n",
    "\n",
    "g = pickle.load(open('data/full_graph.p','rb'))\n",
    "e_weight = g.edge_properties['weights']\n",
    "e_colored = g.edge_properties['colors']\n",
    "v_letter = g.vertex_properties['letters']\n",
    "\n",
    "root = [x for x in list(g.vertices()) if x.in_degree() == 0][0]\n"
   ]
  },
  {
   "cell_type": "code",
   "execution_count": 34,
   "metadata": {
    "collapsed": false
   },
   "outputs": [
    {
     "data": {
      "text/plain": [
       "<Vertex object with index '1' at 0x7f2052be5c00>"
      ]
     },
     "execution_count": 34,
     "metadata": {},
     "output_type": "execute_result"
    }
   ],
   "source": [
    "s  = list(root.out_edges())[0]\n",
    "s.target()"
   ]
  },
  {
   "cell_type": "code",
   "execution_count": 46,
   "metadata": {
    "collapsed": false
   },
   "outputs": [
    {
     "data": {
      "text/plain": [
       "0"
      ]
     },
     "execution_count": 46,
     "metadata": {},
     "output_type": "execute_result"
    }
   ],
   "source": [
    "sum(e_colored.get_array())"
   ]
  },
  {
   "cell_type": "code",
   "execution_count": 42,
   "metadata": {
    "collapsed": false
   },
   "outputs": [],
   "source": [
    "#[x.target() for x in [list(root.out_edges())] if e_colored[x] == 1 and v_letter[x.target()] in 'A']\n",
    "\n",
    "for x in list(root.out_edges()):\n",
    "    if e_colored[x] == 1:\n",
    "        print(x)"
   ]
  },
  {
   "cell_type": "code",
   "execution_count": 31,
   "metadata": {
    "collapsed": false
   },
   "outputs": [
    {
     "name": "stdout",
     "output_type": "stream",
     "text": [
      "{<Vertex object with index '0' at 0x7f2052cb9cf0>}\n",
      "set()\n",
      "set()\n"
     ]
    },
    {
     "ename": "ValueError",
     "evalue": "a must be non-empty",
     "output_type": "error",
     "traceback": [
      "\u001b[1;31m---------------------------------------------------------------------------\u001b[0m",
      "\u001b[1;31mValueError\u001b[0m                                Traceback (most recent call last)",
      "\u001b[1;32m<ipython-input-31-083a5eaa4b21>\u001b[0m in \u001b[0;36m<module>\u001b[1;34m()\u001b[0m\n\u001b[0;32m     23\u001b[0m     \u001b[1;32mreturn\u001b[0m \u001b[0mnp\u001b[0m\u001b[1;33m.\u001b[0m\u001b[0mrandom\u001b[0m\u001b[1;33m.\u001b[0m\u001b[0mchoice\u001b[0m\u001b[1;33m(\u001b[0m\u001b[0mletters\u001b[0m\u001b[1;33m,\u001b[0m\u001b[1;36m1\u001b[0m\u001b[1;33m,\u001b[0m\u001b[0mweigths\u001b[0m\u001b[1;33m/\u001b[0m\u001b[0mweigths\u001b[0m\u001b[1;33m.\u001b[0m\u001b[0msum\u001b[0m\u001b[1;33m(\u001b[0m\u001b[1;33m)\u001b[0m\u001b[1;33m)\u001b[0m\u001b[1;33m\u001b[0m\u001b[0m\n\u001b[0;32m     24\u001b[0m \u001b[1;33m\u001b[0m\u001b[0m\n\u001b[1;32m---> 25\u001b[1;33m \u001b[0madd_letter\u001b[0m\u001b[1;33m(\u001b[0m\u001b[1;33m[\u001b[0m\u001b[1;34m'A'\u001b[0m\u001b[1;33m,\u001b[0m\u001b[1;34m'YLG'\u001b[0m\u001b[1;33m,\u001b[0m\u001b[1;34m'.'\u001b[0m\u001b[1;33m]\u001b[0m\u001b[1;33m,\u001b[0m\u001b[1;36m2\u001b[0m\u001b[1;33m)\u001b[0m\u001b[1;33m\u001b[0m\u001b[0m\n\u001b[0m\u001b[0;32m     26\u001b[0m \u001b[1;33m\u001b[0m\u001b[0m\n",
      "\u001b[1;32m<ipython-input-31-083a5eaa4b21>\u001b[0m in \u001b[0;36madd_letter\u001b[1;34m(individual, depth)\u001b[0m\n\u001b[0;32m     21\u001b[0m         \u001b[0mletters\u001b[0m\u001b[1;33m.\u001b[0m\u001b[0mappend\u001b[0m\u001b[1;33m(\u001b[0m\u001b[0mk\u001b[0m\u001b[1;33m)\u001b[0m\u001b[1;33m\u001b[0m\u001b[0m\n\u001b[0;32m     22\u001b[0m         \u001b[0mweights\u001b[0m\u001b[1;33m.\u001b[0m\u001b[0madd\u001b[0m\u001b[1;33m(\u001b[0m\u001b[0mv\u001b[0m\u001b[1;33m)\u001b[0m\u001b[1;33m\u001b[0m\u001b[0m\n\u001b[1;32m---> 23\u001b[1;33m     \u001b[1;32mreturn\u001b[0m \u001b[0mnp\u001b[0m\u001b[1;33m.\u001b[0m\u001b[0mrandom\u001b[0m\u001b[1;33m.\u001b[0m\u001b[0mchoice\u001b[0m\u001b[1;33m(\u001b[0m\u001b[0mletters\u001b[0m\u001b[1;33m,\u001b[0m\u001b[1;36m1\u001b[0m\u001b[1;33m,\u001b[0m\u001b[0mweigths\u001b[0m\u001b[1;33m/\u001b[0m\u001b[0mweigths\u001b[0m\u001b[1;33m.\u001b[0m\u001b[0msum\u001b[0m\u001b[1;33m(\u001b[0m\u001b[1;33m)\u001b[0m\u001b[1;33m)\u001b[0m\u001b[1;33m\u001b[0m\u001b[0m\n\u001b[0m\u001b[0;32m     24\u001b[0m \u001b[1;33m\u001b[0m\u001b[0m\n\u001b[0;32m     25\u001b[0m \u001b[0madd_letter\u001b[0m\u001b[1;33m(\u001b[0m\u001b[1;33m[\u001b[0m\u001b[1;34m'A'\u001b[0m\u001b[1;33m,\u001b[0m\u001b[1;34m'YLG'\u001b[0m\u001b[1;33m,\u001b[0m\u001b[1;34m'.'\u001b[0m\u001b[1;33m]\u001b[0m\u001b[1;33m,\u001b[0m\u001b[1;36m2\u001b[0m\u001b[1;33m)\u001b[0m\u001b[1;33m\u001b[0m\u001b[0m\n",
      "\u001b[1;32mmtrand.pyx\u001b[0m in \u001b[0;36mmtrand.RandomState.choice (numpy/random/mtrand/mtrand.c:8295)\u001b[1;34m()\u001b[0m\n",
      "\u001b[1;31mValueError\u001b[0m: a must be non-empty"
     ]
    }
   ],
   "source": [
    "def add_letter(individual,depth):\n",
    "    candidates = set([root])\n",
    "    for i in range(depth):\n",
    "        group = individual[i]\n",
    "        print(candidates)\n",
    "        while candidates:\n",
    "            current = candidates.pop()\n",
    "            if group == '.':\n",
    "                candidates |= set(current.out_neighbors())\n",
    "            candidates |= set([x.target for x in list(current.out_edges()) if e_colored[x] == 1 and v_letter[x.target] in group])\n",
    "    lcounts = dict()\n",
    "    for c in candidates:\n",
    "        if v_letter[c] in lcounts:\n",
    "            lcounts[v_letter[c]] += e_weight[[c.in_edges()][0]]\n",
    "        else:\n",
    "            lcounts[v_letter[c]] = e_weight[[c.in_edges()][0]]\n",
    "    letters = []\n",
    "    weigths = np.array([])\n",
    "    print(candidates)\n",
    "    for k,v in lcounts.items():\n",
    "        letters.append(k)\n",
    "        weights.add(v)\n",
    "    return np.random.choice(letters,1,weigths/weigths.sum())\n",
    "\n",
    "add_letter(['A','YLG','.'],2)\n",
    "            "
   ]
  },
  {
   "cell_type": "code",
   "execution_count": null,
   "metadata": {
    "collapsed": false
   },
   "outputs": [],
   "source": [
    "#\n",
    "# Global variables\n",
    "# Setup optimal string and GA input variables.\n",
    "#\n",
    "\n",
    "OPTIMAL     = \"Hello, World\"\n",
    "IND_SIZE    = len(OPTIMAL)\n",
    "POP_SIZE    = 20\n",
    "GENERATIONS = 5000\n",
    "ALPHABET = 'GPAVLIMCFYWHKRQNEDST'\n",
    "\n",
    "\n",
    "\n",
    "\n",
    "# GA functions\n",
    "# These make up the bulk of the actual GA algorithm.\n",
    "\n",
    "def fitness(individual):\n",
    "    matches = grep(filename,0,individual)\n",
    "    specificity = possible_strings(individual)\n",
    "    \n",
    "    return matches - specificity*5\n",
    "\n",
    "def remove_letter(group):\n",
    "    if group == '.':\n",
    "        group = np.random.choice(ALPHABET,19)\n",
    "    elif len(group) == 1:\n",
    "        return ''\n",
    "    else:\n",
    "        group = np.random.choice(group,len(group)-1)\n",
    "    return group\n",
    "    \n",
    "    \n",
    "def mutate(individual):\n",
    "    \"\"\"\n",
    "    For each gene in the DNA, there is a mutation_chance chance that it will be\n",
    "    switched out with a random character. This ensures diversity in the\n",
    "    population, and ensures that is difficult to get stuck in local minima.\n",
    "    \"\"\"\n",
    "    m_individual = []\n",
    "    mutation_chance = 0.01\n",
    "    for i in range(len(individual)):\n",
    "        c = individual[i]\n",
    "        if np.random.randint(0,100)/100 < mutation_chance:\n",
    "            mut_choice = np.random.random()\n",
    "            if mut_choice<0.33:\n",
    "                c = remove_letter(c)\n",
    "            if 0.33<mut_choice<0.66:\n",
    "                c = add_letter(individual,i)\n",
    "            else:\n",
    "                c = switch_letter(c)\n",
    "                \n",
    "                    \n",
    "        m_individual.append(c)\n",
    "    return m_individual\n",
    "\n",
    "def crossover(individual1,individual2):\n",
    "    idx = np.random.choice(range(len(individual1)),0.5*len(individual1),replace=False)\n",
    "    old_individual1 = individual1.copy()\n",
    "    individual1[idx] = individual2[idx]\n",
    "    individual2[idx] = individual1[idx]\n",
    "    return individual1,individual2\n",
    "    #pos = np.random.randint(0,min(len(individual1),len(individual2)))\n",
    "    #return (individual1[:pos]+individual2[pos:], individual2[:pos]+individual1[pos:])\n",
    "\n",
    "\n",
    "for _ in range(GENERATIONS):\n",
    "    "
   ]
  }
 ],
 "metadata": {
  "kernelspec": {
   "display_name": "Python 3",
   "language": "python",
   "name": "python3"
  },
  "language_info": {
   "codemirror_mode": {
    "name": "ipython",
    "version": 3
   },
   "file_extension": ".py",
   "mimetype": "text/x-python",
   "name": "python",
   "nbconvert_exporter": "python",
   "pygments_lexer": "ipython3",
   "version": "3.4.3+"
  }
 },
 "nbformat": 4,
 "nbformat_minor": 0
}
